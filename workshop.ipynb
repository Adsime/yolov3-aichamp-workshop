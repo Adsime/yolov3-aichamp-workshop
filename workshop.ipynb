{
 "nbformat": 4,
 "nbformat_minor": 2,
 "metadata": {
  "language_info": {
   "name": "python",
   "codemirror_mode": {
    "name": "ipython",
    "version": 3
   },
   "version": "3.7.4"
  },
  "orig_nbformat": 2,
  "file_extension": ".py",
  "mimetype": "text/x-python",
  "name": "python",
  "npconvert_exporter": "python",
  "pygments_lexer": "ipython3",
  "version": 3
 },
 "cells": [
  {
   "cell_type": "markdown",
   "execution_count": null,
   "metadata": {},
   "outputs": [],
   "source": [
    "This notebook is an introduction to how we can use YOLOv3 to process images\n",
    "\n",
    "First, verify that all dependancies are satisfied:"
   ]
  },
  {
   "cell_type": "code",
   "execution_count": 11,
   "metadata": {},
   "outputs": [
    {
     "name": "stdout",
     "output_type": "stream",
     "text": "Requirement already satisfied: opencv-python in c:\\users\\amm\\appdata\\local\\continuum\\anaconda3\\lib\\site-packages (4.1.2.30)\nRequirement already satisfied: numpy>=1.14.5 in c:\\users\\amm\\appdata\\local\\continuum\\anaconda3\\lib\\site-packages (from opencv-python) (1.16.5)\nRequirement already satisfied: matplotlib in c:\\users\\amm\\appdata\\local\\continuum\\anaconda3\\lib\\site-packages (3.1.1)\nRequirement already satisfied: cycler>=0.10 in c:\\users\\amm\\appdata\\local\\continuum\\anaconda3\\lib\\site-packages (from matplotlib) (0.10.0)\nRequirement already satisfied: kiwisolver>=1.0.1 in c:\\users\\amm\\appdata\\local\\continuum\\anaconda3\\lib\\site-packages (from matplotlib) (1.1.0)\nRequirement already satisfied: pyparsing!=2.0.4,!=2.1.2,!=2.1.6,>=2.0.1 in c:\\users\\amm\\appdata\\local\\continuum\\anaconda3\\lib\\site-packages (from matplotlib) (2.4.2)\nRequirement already satisfied: python-dateutil>=2.1 in c:\\users\\amm\\appdata\\local\\continuum\\anaconda3\\lib\\site-packages (from matplotlib) (2.8.0)\nRequirement already satisfied: numpy>=1.11 in c:\\users\\amm\\appdata\\local\\continuum\\anaconda3\\lib\\site-packages (from matplotlib) (1.16.5)\nRequirement already satisfied: six in c:\\users\\amm\\appdata\\local\\continuum\\anaconda3\\lib\\site-packages (from cycler>=0.10->matplotlib) (1.12.0)\nRequirement already satisfied: setuptools in c:\\users\\amm\\appdata\\local\\continuum\\anaconda3\\lib\\site-packages (from kiwisolver>=1.0.1->matplotlib) (41.4.0)\n"
    }
   ],
   "source": [
    "!pip install opencv-python\n",
    "!pip install matplotlib"
   ]
  },
  {
   "cell_type": "code",
   "execution_count": 1,
   "metadata": {},
   "outputs": [],
   "source": [
    "import src.network as network\n",
    "import src.file_helper as fh"
   ]
  },
  {
   "cell_type": "code",
   "execution_count": 2,
   "metadata": {},
   "outputs": [],
   "source": [
    "weights = \"yolov3.weights\"\n",
    "cfg = \"yolov3.cfg\"\n",
    "classes = \"coco.names\"\n",
    "\n",
    "image = \"demo.jpg\""
   ]
  },
  {
   "cell_type": "code",
   "execution_count": 3,
   "metadata": {},
   "outputs": [],
   "source": [
    "net = network.load(weights, cfg)\n",
    "\n",
    "classes = network.prepare_classes(classes)"
   ]
  },
  {
   "cell_type": "code",
   "execution_count": 4,
   "metadata": {},
   "outputs": [],
   "source": [
    "output_layers = network.extract_output_layers(net)"
   ]
  },
  {
   "cell_type": "code",
   "execution_count": 5,
   "metadata": {},
   "outputs": [],
   "source": [
    "img = fh.load_image(image)\n",
    "\n",
    "fh.show_image(img)"
   ]
  },
  {
   "cell_type": "code",
   "execution_count": 6,
   "metadata": {},
   "outputs": [],
   "source": [
    "blob = network.image_to_blob(img, 1/255)"
   ]
  },
  {
   "cell_type": "code",
   "execution_count": 7,
   "metadata": {},
   "outputs": [],
   "source": [
    "outputs = network.forward(net, blob, output_layers)"
   ]
  },
  {
   "cell_type": "code",
   "execution_count": 8,
   "metadata": {},
   "outputs": [
    {
     "name": "stdout",
     "output_type": "stream",
     "text": "3\n3072\n12288\n49152\n"
    },
    {
     "data": {
      "text/plain": "([[-63092, 0, 126245, 0],\n  [-106085, 1, 214153, 0],\n  [-29367, 6, 60733, 0],\n  [863, 7, 273, 0],\n  [-2145, 196, 4346, 7],\n  [-7267, 352, 16517, 0],\n  [-38915, 424, 78757, 0],\n  [-27791, 584, 57165, 0],\n  [-72866, 584, 147331, 0],\n  [-97725, 584, 197065, 0],\n  [-109555, 592, 220724, 0],\n  [298, 814, 261, 19],\n  [17, 817, 844, 14]],\n 0.0,\n [29, 29, 29, 29, 60, 25, 25, 25, 25, 25, 25, 63, 63])"
     },
     "execution_count": 8,
     "metadata": {},
     "output_type": "execute_result"
    }
   ],
   "source": [
    "network.process_result(img, outputs, classes, 0.95)"
   ]
  },
  {
   "cell_type": "code",
   "execution_count": 9,
   "metadata": {},
   "outputs": [],
   "source": [
    "fh.show_image(img)"
   ]
  },
  {
   "cell_type": "code",
   "execution_count": null,
   "metadata": {},
   "outputs": [],
   "source": []
  }
 ]
}