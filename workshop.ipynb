{
 "nbformat": 4,
 "nbformat_minor": 2,
 "metadata": {
  "language_info": {
   "name": "python",
   "codemirror_mode": {
    "name": "ipython",
    "version": 3
   },
   "version": "3.7.4"
  },
  "orig_nbformat": 2,
  "file_extension": ".py",
  "mimetype": "text/x-python",
  "name": "python",
  "npconvert_exporter": "python",
  "pygments_lexer": "ipython3",
  "version": 3
 },
 "cells": [
  {
   "cell_type": "markdown",
   "metadata": {},
   "outputs": [],
   "source": [
    "This notebook is an introduction to how we can use YOLOv3 to process images\n",
    "\n",
    "First, verify that all dependancies are satisfied:"
   ]
  },
  {
   "cell_type": "code",
   "execution_count": 1,
   "metadata": {},
   "outputs": [
    {
     "name": "stdout",
     "output_type": "stream",
     "text": "Requirement already satisfied: opencv-python in d:\\programmer\\anaconda\\lib\\site-packages (4.1.2.30)\nRequirement already satisfied: numpy>=1.14.5 in d:\\programmer\\anaconda\\lib\\site-packages (from opencv-python) (1.16.5)\nRequirement already satisfied: matplotlib in d:\\programmer\\anaconda\\lib\\site-packages (3.1.1)\nRequirement already satisfied: cycler>=0.10 in d:\\programmer\\anaconda\\lib\\site-packages (from matplotlib) (0.10.0)\nRequirement already satisfied: kiwisolver>=1.0.1 in d:\\programmer\\anaconda\\lib\\site-packages (from matplotlib) (1.1.0)\nRequirement already satisfied: pyparsing!=2.0.4,!=2.1.2,!=2.1.6,>=2.0.1 in d:\\programmer\\anaconda\\lib\\site-packages (from matplotlib) (2.4.2)\nRequirement already satisfied: python-dateutil>=2.1 in d:\\programmer\\anaconda\\lib\\site-packages (from matplotlib) (2.8.0)\nRequirement already satisfied: numpy>=1.11 in d:\\programmer\\anaconda\\lib\\site-packages (from matplotlib) (1.16.5)\nRequirement already satisfied: six in d:\\programmer\\anaconda\\lib\\site-packages (from cycler>=0.10->matplotlib) (1.12.0)\nRequirement already satisfied: setuptools in d:\\programmer\\anaconda\\lib\\site-packages (from kiwisolver>=1.0.1->matplotlib) (41.4.0)\n"
    }
   ],
   "source": [
    "!pip install opencv-python\n",
    "!pip install matplotlib"
   ]
  },
  {
   "cell_type": "code",
   "execution_count": 16,
   "metadata": {},
   "outputs": [],
   "source": [
    "import cv2 as cv\n",
    "import numpy as np\n",
    "from copy import deepcopy\n",
    "\n",
    "weigths_path = \"data/weights/\"\n",
    "cfg_path = \"data/cfg/\"\n",
    "class_path = \"data/\"\n",
    "\n",
    "black = (0, 0, 0)\n",
    "white = (255, 255, 255)\n",
    "font = cv.FONT_HERSHEY_TRIPLEX\n",
    "font_scale = 0.5\n",
    "thickness = 2\n",
    "\n",
    "def load(weights, cfg):\n",
    "    weights = weigths_path + weights\n",
    "    cfg = cfg_path + cfg\n",
    "    return cv.dnn.readNet(weights, cfg)\n",
    "\n",
    "def prepare_classes(classes):\n",
    "    with(open(class_path + classes, \"r\")) as f:\n",
    "        return [line.strip() for line in f.readlines()]\n",
    "\n",
    "def extract_output_layers(net):\n",
    "    names = net.getLayerNames()\n",
    "    return [names[layer[0] - 1] for layer in net.getUnconnectedOutLayers()]\n",
    "\n",
    "def image_to_blob(image, size=(416, 416)):\n",
    "    return cv.dnn.blobFromImage(image, scalefactor=1/255, size=(416, 416), swapRB=True, crop=False)\n",
    "\n",
    "def forward(net, blob, output_layers):\n",
    "    net.setInput(blob)\n",
    "    return net.forward(output_layers)\n",
    "\n",
    "def postprocess(image, outputs, classes, threshold=0.8, nms_threshold=0.6):\n",
    "    height, width, _ = image.shape\n",
    "\n",
    "    image = deepcopy(image)\n",
    "\n",
    "    class_ids = []\n",
    "    confidences = []\n",
    "    boxes = []\n",
    "\n",
    "    for o in outputs:\n",
    "        for detection in o:\n",
    "            center_x = detection[0] * width\n",
    "            center_y = detection[1] * height\n",
    "            w = detection[2] * width\n",
    "            h = detection[3] * height\n",
    "            x = center_x - w/2\n",
    "            y = center_y - h/2\n",
    "\n",
    "            scores = detection[5:]\n",
    "            class_id = np.argmax(scores)\n",
    "            confidence = scores[class_id]\n",
    "\n",
    "            boxes.append([int(x), int(y), int(w), int(h)])\n",
    "            confidences.append(float(confidence))\n",
    "            class_ids.append(class_id)\n",
    "\n",
    "\n",
    "    indices = cv.dnn.NMSBoxes(boxes, confidences, threshold, nms_threshold)\n",
    "\n",
    "    for i in indices:\n",
    "        i = i[0]\n",
    "        label = str(classes[class_ids[i]])\n",
    "        draw_box(image, label, boxes[i])\n",
    "        \n",
    "    return image\n",
    "\n",
    "def convertToCoordinates(x, y, w, h):\n",
    "    return [int(x), int(y), int(w), int(h)]\n",
    "\n",
    "def draw_box(image, label, box):\n",
    "    x,y,w,h = box\n",
    "    tw, th = cv.getTextSize(label, font, font_scale, thickness=thickness)[0]\n",
    "    cv.rectangle(image, (x, y), (x + w, y + h), black, thickness=thickness)\n",
    "    cv.rectangle(image, (x, y), (x + tw + 10, y - th - 10), black, cv.FILLED)\n",
    "    cv.putText(image, label, (x + 5, y - 5), font, font_scale, (255, 255, 255), thickness=1)"
   ]
  },
  {
   "cell_type": "code",
   "execution_count": 3,
   "metadata": {},
   "outputs": [],
   "source": [
    "from matplotlib import pyplot as plt\n",
    "\n",
    "image_path = \"data/images/\"\n",
    "\n",
    "def load_image(image, x_scale=1, y_scale=1):\n",
    "    image = image_path + image\n",
    "    img = cv.imread(image)\n",
    "    img = cv.resize(img, None, fx=x_scale, fy=y_scale)\n",
    "    return img\n",
    "\n",
    "def show_image(image):\n",
    "    cv.imshow(\"image\", image)\n",
    "    cv.waitKey(0)\n",
    "    cv.destroyAllWindows()"
   ]
  },
  {
   "cell_type": "code",
   "execution_count": 8,
   "metadata": {},
   "outputs": [],
   "source": [
    "weights = \"yolov3.weights\"\n",
    "cfg = \"yolov3.cfg\"\n",
    "classes = \"coco.names\"\n",
    "image = \"demo.jpg\"\n",
    "\n",
    "net = load(weights, cfg)\n",
    "classes = prepare_classes(classes)\n",
    "\n",
    "output_layers = extract_output_layers(net)\n",
    "\n",
    "img = load_image(image)\n",
    "\n",
    "blob = image_to_blob(img)\n",
    "\n",
    "outputs = forward(net, blob, output_layers)"
   ]
  },
  {
   "cell_type": "code",
   "execution_count": 17,
   "metadata": {},
   "outputs": [],
   "source": [
    "processed_image = postprocess(img, outputs, classes, 0.8)\n",
    "\n",
    "show_image(processed_image)"
   ]
  },
  {
   "cell_type": "code",
   "execution_count": 5,
   "metadata": {},
   "outputs": [
    {
     "name": "stdout",
     "output_type": "stream",
     "text": "(371, 660, 3)\n"
    }
   ],
   "source": [
    "print(img.shape)"
   ]
  },
  {
   "cell_type": "code",
   "metadata": {},
   "outputs": [],
   "source": []
  }
 ]
}