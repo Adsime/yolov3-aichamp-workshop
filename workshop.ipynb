{
 "nbformat": 4,
 "nbformat_minor": 2,
 "metadata": {
  "language_info": {
   "name": "python",
   "codemirror_mode": {
    "name": "ipython",
    "version": 3
   },
   "version": "3.7.4"
  },
  "orig_nbformat": 2,
  "file_extension": ".py",
  "mimetype": "text/x-python",
  "name": "python",
  "npconvert_exporter": "python",
  "pygments_lexer": "ipython3",
  "version": 3
 },
 "cells": [
  {
   "cell_type": "markdown",
   "execution_count": null,
   "metadata": {},
   "outputs": [],
   "source": [
    "This notebook is an introduction to how we can use YOLOv3 to process images\n",
    "\n",
    "First, verify that all dependancies are satisfied:"
   ]
  },
  {
   "cell_type": "code",
   "execution_count": 1,
   "metadata": {},
   "outputs": [
    {
     "name": "stdout",
     "output_type": "stream",
     "text": "Requirement already satisfied: opencv-python in d:\\programmer\\anaconda\\lib\\site-packages (4.1.2.30)\nRequirement already satisfied: numpy>=1.14.5 in d:\\programmer\\anaconda\\lib\\site-packages (from opencv-python) (1.16.5)\nRequirement already satisfied: matplotlib in d:\\programmer\\anaconda\\lib\\site-packages (3.1.1)\nRequirement already satisfied: cycler>=0.10 in d:\\programmer\\anaconda\\lib\\site-packages (from matplotlib) (0.10.0)\nRequirement already satisfied: kiwisolver>=1.0.1 in d:\\programmer\\anaconda\\lib\\site-packages (from matplotlib) (1.1.0)\nRequirement already satisfied: pyparsing!=2.0.4,!=2.1.2,!=2.1.6,>=2.0.1 in d:\\programmer\\anaconda\\lib\\site-packages (from matplotlib) (2.4.2)\nRequirement already satisfied: python-dateutil>=2.1 in d:\\programmer\\anaconda\\lib\\site-packages (from matplotlib) (2.8.0)\nRequirement already satisfied: numpy>=1.11 in d:\\programmer\\anaconda\\lib\\site-packages (from matplotlib) (1.16.5)\nRequirement already satisfied: six in d:\\programmer\\anaconda\\lib\\site-packages (from cycler>=0.10->matplotlib) (1.12.0)\nRequirement already satisfied: setuptools in d:\\programmer\\anaconda\\lib\\site-packages (from kiwisolver>=1.0.1->matplotlib) (41.4.0)\n"
    }
   ],
   "source": [
    "!pip install opencv-python\n",
    "!pip install matplotlib"
   ]
  },
  {
   "cell_type": "code",
   "execution_count": 2,
   "metadata": {},
   "outputs": [],
   "source": [
    "import src.network as network\n",
    "import src.file_helper as fh\n",
    "import youtube_dl\n",
    "\n",
    "weights = \"yolov3.weights\"\n",
    "cfg = \"yolov3.cfg\"\n",
    "classes = \"coco.names\"\n",
    "\n",
    "image = \"demo.jpg\"\n",
    "\n",
    "net = network.load(weights, cfg)\n",
    "classes = network.prepare_classes(classes)\n",
    "\n",
    "output_layers = network.extract_output_layers(net)\n",
    "\n",
    "img = fh.load_image(image)\n",
    "\n",
    "blob = network.image_to_blob(img, 1/255)\n",
    "\n",
    "outputs = network.forward(net, blob, output_layers)"
   ]
  },
  {
   "cell_type": "code",
   "execution_count": 2,
   "metadata": {},
   "outputs": [
    {
     "name": "stdout",
     "output_type": "stream",
     "text": "1008\n[[177]\n [165]\n [183]\n [152]\n [144]]\n0.9529231190681458\n0.8640747666358948\n0.837643027305603\n0.7424910068511963\n0.6239824891090393\n"
    }
   ],
   "source": [
    "processed_image = network.postprocess(img, outputs, classes, 0)\n",
    "\n",
    "fh.show_image(processed_image)"
   ]
  },
  {
   "cell_type": "code",
   "execution_count": 16,
   "metadata": {},
   "outputs": [
    {
     "name": "stdout",
     "output_type": "stream",
     "text": "(371, 660, 3)\n"
    }
   ],
   "source": [
    "print(img.shape)"
   ]
  },
  {
   "cell_type": "code",
   "execution_count": null,
   "metadata": {},
   "outputs": [],
   "source": []
  }
 ]
}