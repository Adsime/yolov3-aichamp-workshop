{
 "cells": [
  {
   "cell_type": "code",
   "metadata": {},
   "outputs": [],
   "source": [
    "import src.network as network\n",
    "import src.utility as ut\n",
    "import cv2 as cv"
   ]
  },
  {
   "cell_type": "code",
   "metadata": {},
   "outputs": [],
   "source": [
    "weights = \"yolov3.weights\"\n",
    "cfg = \"yolov3.cfg\"\n",
    "classes = \"coco.names\"\n",
    "image = \"demo.jpg\"\n",
    "\n",
    "threshold=0.9\n",
    "nms_threshold=0.7\n",
    "box_color=(0, 0, 0)\n",
    "text_color=(255, 255, 255)\n",
    "font_scale=0.5\n",
    "font=cv.FONT_HERSHEY_SIMPLEX\n",
    "thickness=2\n",
    "size=(416, 416)"
   ]
  },
  {
   "cell_type": "code",
   "metadata": {},
   "outputs": [],
   "source": [
    "net = network.load(weights, cfg)\n",
    "classes = network.prepare_classes(classes)\n",
    "\n",
    "output_layers = network.extract_output_layers(net)\n",
    "\n",
    "img = ut.load_image(image)\n",
    "\n",
    "blob = network.image_to_blob(img, size=size)\n",
    "\n",
    "outputs = network.forward(net, blob, output_layers)\n",
    "\n",
    "processed_image,_,_,_ = network.postprocess(img, outputs, classes, threshold=threshold, nms_threshold=nms_threshold, box_color=box_color, text_color=text_color, font_scale=font_scale, font=cv.FONT_HERSHEY_SIMPLEX, thickness=2)\n",
    "\n",
    "ut.show_image(processed_image)"
   ]
  },
  {
   "cell_type": "code",
   "metadata": {},
   "outputs": [],
   "source": []
  }
 ],
 "metadata": {
  "file_extension": ".py",
  "kernelspec": {
   "display_name": "Python 3",
   "language": "python",
   "name": "python3"
  },
  "language_info": {
   "codemirror_mode": {
    "name": "ipython",
    "version": 3
   },
   "file_extension": ".py",
   "mimetype": "text/x-python",
   "name": "python",
   "nbconvert_exporter": "python",
   "pygments_lexer": "ipython3",
   "version": "3.8.0"
  },
  "mimetype": "text/x-python",
  "name": "python",
  "npconvert_exporter": "python",
  "pygments_lexer": "ipython3",
  "version": 3
 },
 "nbformat": 4,
 "nbformat_minor": 2
}