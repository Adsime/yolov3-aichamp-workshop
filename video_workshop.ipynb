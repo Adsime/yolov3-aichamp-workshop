{
 "cells": [
  {
   "cell_type": "code",
   "metadata": {},
   "outputs": [],
   "source": [
    "import cv2 as cv\n",
    "import youtube_dl\n",
    "import src.network as network\n",
    "import src.utility as ut"
   ]
  },
  {
   "cell_type": "code",
   "metadata": {},
   "outputs": [],
   "source": [
    "weights = \"yolov3.weights\"\n",
    "cfg = \"yolov3.cfg\"\n",
    "classes = \"coco.names\"\n",
    "\n",
    "url = \"https://www.youtube.com/watch?v=zObiglKZKZc\"\n",
    "\n",
    "# Make sure to check that the quality exists on youtube.\n",
    "video_quality = \"480p\"\n",
    "\n",
    "# Any confidence under this threshold will be ignored.\n",
    "threshold=0.7\n",
    "\n",
    "# Eliminates overlapping (based on this threshold) boxes of the same class.\n",
    "nms_threshold=0.4\n",
    "\n",
    "# Yolo will downscale the image to this size. Smaller values will be faster. Remember; only multiples of 32!\n",
    "size=(416, 416)\n",
    "\n",
    "# Color of the boxes\n",
    "box_color=(0, 0, 0)\n",
    "\n",
    "# Color of the labels\n",
    "text_color=(255, 255, 255)\n",
    "\n",
    "# Scale of the font\n",
    "font_scale=0.5\n",
    "\n",
    "# Font\n",
    "font=cv.FONT_HERSHEY_SIMPLEX\n",
    "\n",
    "# This will adjust the thickess of the boxes, text and stuff\n",
    "thickness=2"
   ]
  },
  {
   "cell_type": "code",
   "metadata": {},
   "outputs": [],
   "source": [
    "# If you want to download different ones, just replace the url and the name\n",
    "\n",
    "ut.download(\"https://raw.githubusercontent.com/pjreddie/darknet/master/cfg/yolov3.cfg\", ut.cfg_path, cfg)\n",
    "ut.download(\"https://pjreddie.com/media/files/yolov3.weights\", ut.weigths_path, weights)\n",
    "ut.download(\"https://raw.githubusercontent.com/pjreddie/darknet/master/data/coco.names\", ut.class_path, classes)"
   ]
  },
  {
   "cell_type": "code",
   "metadata": {},
   "outputs": [],
   "source": [
    "net = network.load(weights, cfg)\n",
    "labels = network.prepare_classes(classes)\n",
    "\n",
    "output_layers = network.extract_output_layers(net)\n",
    "\n",
    "ydl_opts = {}\n",
    "ydl = youtube_dl.YoutubeDL(ydl_opts)\n",
    "info_dict = ydl.extract_info(url, download=False)\n",
    "formats = info_dict.get('formats',None)\n",
    "\n",
    "\n",
    "for f in formats:\n",
    "\n",
    "    if f.get('format_note',None) == video_quality:\n",
    "\n",
    "        url = f.get('url',None)\n",
    "        cap = cv.VideoCapture(url)\n",
    "\n",
    "        if not cap.isOpened():\n",
    "            print('video not opened')\n",
    "            exit(-1)\n",
    "\n",
    "        while True:\n",
    "            ret, frame = cap.read()\n",
    "\n",
    "            if not ret:\n",
    "                break\n",
    "\n",
    "            blob = network.image_to_blob(frame, size=size)\n",
    "            outputs = network.forward(net, blob, output_layers)\n",
    "\n",
    "            frame,_,_,_ = network.postprocess(frame, outputs, labels, threshold=threshold, nms_threshold=nms_threshold, box_color=box_color, text_color=text_color, font_scale=font_scale, font=cv.FONT_HERSHEY_SIMPLEX, thickness=2)\n",
    "\n",
    "            cv.imshow('frame', frame)\n",
    "            if cv.waitKey(30)&0xFF == ord('q'):\n",
    "                break\n",
    "\n",
    "        cap.release()\n",
    "\n",
    "cv.destroyAllWindows()"
   ]
  }
 ],
 "metadata": {
  "file_extension": ".py",
  "kernelspec": {
   "display_name": "Python 3",
   "language": "python",
   "name": "python3"
  },
  "language_info": {
   "codemirror_mode": {
    "name": "ipython",
    "version": 3
   },
   "file_extension": ".py",
   "mimetype": "text/x-python",
   "name": "python",
   "nbconvert_exporter": "python",
   "pygments_lexer": "ipython3",
   "version": "3.7.4"
  },
  "mimetype": "text/x-python",
  "name": "python",
  "npconvert_exporter": "python",
  "pygments_lexer": "ipython3",
  "version": 3
 },
 "nbformat": 4,
 "nbformat_minor": 2
}